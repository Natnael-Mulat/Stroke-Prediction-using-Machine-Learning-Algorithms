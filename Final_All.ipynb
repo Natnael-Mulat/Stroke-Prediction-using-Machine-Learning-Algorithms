{
 "cells": [
  {
   "cell_type": "code",
   "execution_count": 3,
   "id": "demanding-ecuador",
   "metadata": {},
   "outputs": [
    {
     "data": {
      "text/plain": [
       "5440"
      ]
     },
     "execution_count": 3,
     "metadata": {},
     "output_type": "execute_result"
    }
   ],
   "source": [
    "import pandas as pd\n",
    "import numpy as np\n",
    "from sklearn.model_selection import train_test_split\n",
    "from sklearn.preprocessing import Normalizer\n",
    "from sklearn.ensemble import RandomForestClassifier, AdaBoostClassifier\n",
    "from sklearn.svm import LinearSVC, NuSVC\n",
    "from sklearn.metrics import f1_score, accuracy_score, make_scorer, roc_curve, classification_report\n",
    "from sklearn.model_selection import RandomizedSearchCV, GridSearchCV\n",
    "from sklearn.metrics import f1_score, accuracy_score, make_scorer\n",
    "import matplotlib.pyplot as plt\n",
    "import seaborn as sns\n",
    "from sklearn.preprocessing import LabelEncoder\n",
    "from sklearn.ensemble import RandomForestClassifier, AdaBoostClassifier\n",
    "from sklearn.metrics import fbeta_score, make_scorer\n",
    "from sklearn.metrics import accuracy_score,recall_score,precision_score,f1_score,confusion_matrix\n",
    "import pickle\n",
    "\n",
    "data=pd.read_csv('DIG.csv')\n",
    "df=data.copy()\n",
    "df = df.drop(['Unnamed: 0', 'ID'], axis=1)\n",
    "df.head()\n",
    "\n",
    "x = df.drop(['STRK'],axis=1)\n",
    "y=df['STRK']\n",
    "\n",
    "xtrain, xtest, ytrain, ytest = train_test_split(x,y,test_size=0.2,shuffle=True,random_state=30)\n",
    "\n",
    "#see data if it is balanced \n",
    "#hint is not balanced \n",
    "\n",
    "#min max scaling \n",
    "# compute statistics on training fold for feature rescaling (min-max)\n",
    "minima = np.min(xtrain, axis=0)\n",
    "maxima = np.max(xtrain, axis=0)\n",
    "\n",
    "# rescale train and test sets\n",
    "xtrain = (xtrain - minima) / (maxima - minima)\n",
    "xtest = (xtest - minima) / (maxima - minima)\n",
    "len(xtest)\n",
    "len(xtrain)"
   ]
  },
  {
   "cell_type": "code",
   "execution_count": 4,
   "id": "double-selling",
   "metadata": {},
   "outputs": [
    {
     "name": "stdout",
     "output_type": "stream",
     "text": [
      "Fitting 5 folds for each of 1 candidates, totalling 5 fits\n",
      "Best score: 0.9040707674417586 with param: {'C': 10000, 'class_weight': {0: 1.0, 1: 4.0}}\n"
     ]
    }
   ],
   "source": [
    "from sklearn.linear_model import LogisticRegression\n",
    "from sklearn.model_selection import GridSearchCV\n",
    "from sklearn.metrics import accuracy_score,recall_score,precision_score,f1_score,confusion_matrix\n",
    "from sklearn.metrics import fbeta_score, make_scorer\n",
    "\n",
    "w = [ {0:1.0,1:4.0}]\n",
    "lr_w=LogisticRegression(max_iter=700000)\n",
    "score_f1_beta = make_scorer(fbeta_score, beta=2)\n",
    "grid_values_w = {'class_weight':w, 'C':[10000]}\n",
    "grid_lr_acc_w = GridSearchCV(lr_w, param_grid = grid_values_w, cv=5, verbose=10, n_jobs=-1,  scoring = score_f1_beta )\n",
    "grid_lr_acc_w.fit(xtrain, ytrain)\n",
    "grid_lr_acc_w.best_params_\n",
    "import pickle\n",
    "filename = 'LOGFinal.sav'\n",
    "pickle.dump(grid_lr_acc_w, open(filename, 'wb'))\n",
    "print(f'Best score: {grid_lr_acc_w.best_score_} with param: {grid_lr_acc_w.best_params_}')\n",
    "#Predict values based on new parameters"
   ]
  },
  {
   "cell_type": "code",
   "execution_count": 22,
   "id": "spread-summer",
   "metadata": {},
   "outputs": [
    {
     "name": "stdout",
     "output_type": "stream",
     "text": [
      "Best score: 0.9040707674417586 with param: {'C': 10000, 'class_weight': {0: 1.0, 1: 4.0}}\n",
      "accuracy_score\n",
      " 0.9897058823529412\n",
      "precision_score\n",
      " 0.8852459016393442\n",
      "recall_score\n",
      " 0.8852459016393442\n",
      "f1_score beta\n",
      " 0.8852459016393442\n"
     ]
    },
    {
     "data": {
      "text/plain": [
       "array([[1292,    7],\n",
       "       [   7,   54]])"
      ]
     },
     "execution_count": 22,
     "metadata": {},
     "output_type": "execute_result"
    }
   ],
   "source": [
    "print(f'Best score: {grid_lr_acc_w.best_score_} with param: {grid_lr_acc_w.best_params_}')\n",
    "lrgpytest_w= grid_lr_acc_w.predict(xtest)\n",
    "print('accuracy_score\\n',accuracy_score(ytest,lrgpytest_w))\n",
    "print('precision_score\\n',precision_score(ytest,lrgpytest_w))\n",
    "print('recall_score\\n',recall_score(ytest,lrgpytest_w))\n",
    "print('f1_score beta\\n',fbeta_score(ytest,lrgpytest_w, beta=2.0))\n",
    "grid_lr_acc_acc_sc=accuracy_score(ytest,lrgpytest_w)\n",
    "grid_lr_acc_pr_sc=precision_score(ytest,lrgpytest_w)\n",
    "grid_lr_acc_rec_sc=recall_score(ytest,lrgpytest_w)\n",
    "grid_lr_acc_f1_sc=f1_score(ytest,lrgpytest_w)\n",
    "confusion_matrix(ytest,lrgpytest_w)"
   ]
  },
  {
   "cell_type": "code",
   "execution_count": 7,
   "id": "jewish-agenda",
   "metadata": {},
   "outputs": [
    {
     "data": {
      "image/png": "[encoded data removed]",
      "text/plain": [
       "<Figure size 576x360 with 2 Axes>"
      ]
     },
     "metadata": {
      "needs_background": "light"
     },
     "output_type": "display_data"
    }
   ],
   "source": [
    "plt.figure(figsize=(8,5))\n",
    "plt.title('confusion matrix for logistic regression')\n",
    "sns.heatmap(confusion_matrix(ytest,lrgpytest_w),annot=True,fmt='.3g',cmap='viridis')\n",
    "plt.xlabel('Predicted label')\n",
    "plt.ylabel('True label')\n",
    "plt.yticks([0,1],['no stroke','stroke'],size=15)\n",
    "plt.xticks([0,1],['no stroke','stroke'],size=15)\n",
    "plt.show()"
   ]
  },
  {
   "cell_type": "code",
   "execution_count": 8,
   "id": "oriented-dakota",
   "metadata": {},
   "outputs": [
    {
     "name": "stdout",
     "output_type": "stream",
     "text": [
      "Fitting 5 folds for each of 1 candidates, totalling 5 fits\n",
      "[CV 1/5; 1/1] START learning_rate=1.5, n_estimators=1000........................\n",
      "[CV 1/5; 1/1] END ......learning_rate=1.5, n_estimators=1000; total time=  12.0s\n",
      "[CV 2/5; 1/1] START learning_rate=1.5, n_estimators=1000........................\n",
      "[CV 2/5; 1/1] END ......learning_rate=1.5, n_estimators=1000; total time=  12.0s\n",
      "[CV 3/5; 1/1] START learning_rate=1.5, n_estimators=1000........................\n",
      "[CV 3/5; 1/1] END ......learning_rate=1.5, n_estimators=1000; total time=  12.0s\n",
      "[CV 4/5; 1/1] START learning_rate=1.5, n_estimators=1000........................\n",
      "[CV 4/5; 1/1] END ......learning_rate=1.5, n_estimators=1000; total time=  12.0s\n",
      "[CV 5/5; 1/1] START learning_rate=1.5, n_estimators=1000........................\n",
      "[CV 5/5; 1/1] END ......learning_rate=1.5, n_estimators=1000; total time=  12.0s\n"
     ]
    },
    {
     "data": {
      "text/plain": [
       "{'learning_rate': 1.5, 'n_estimators': 1000}"
      ]
     },
     "execution_count": 8,
     "metadata": {},
     "output_type": "execute_result"
    }
   ],
   "source": [
    "from sklearn.ensemble import RandomForestClassifier, AdaBoostClassifier\n",
    "ada_1 = AdaBoostClassifier()\n",
    "ada_1_params  = {\n",
    "     \"n_estimators\":[1000],\n",
    "    \"learning_rate\" : [1.5]\n",
    "}\n",
    "score_f1_beta = make_scorer(fbeta_score, beta=2)\n",
    "ada_1_tune = GridSearchCV(estimator = ada_1, param_grid = ada_1_params, scoring = score_f1_beta, cv = 5, return_train_score = True, verbose = 10)\n",
    "ada_1_tune.fit(xtrain, ytrain)\n",
    "ada_1_tune.best_params_"
   ]
  },
  {
   "cell_type": "code",
   "execution_count": 23,
   "id": "protective-electron",
   "metadata": {},
   "outputs": [
    {
     "name": "stdout",
     "output_type": "stream",
     "text": [
      "accuracy_score\n",
      " 0.9823529411764705\n",
      "precision_score\n",
      " 0.8627450980392157\n",
      "recall_score\n",
      " 0.7213114754098361\n",
      "f1_score beta\n",
      " 0.7457627118644069\n"
     ]
    },
    {
     "data": {
      "text/plain": [
       "array([[1292,    7],\n",
       "       [  17,   44]])"
      ]
     },
     "execution_count": 23,
     "metadata": {},
     "output_type": "execute_result"
    }
   ],
   "source": [
    "from sklearn.metrics import accuracy_score,recall_score,precision_score,f1_score,confusion_matrix\n",
    "ada_1_preds = ada_1_tune.predict(xtest)\n",
    "print('accuracy_score\\n',accuracy_score(ytest,ada_1_preds))\n",
    "print('precision_score\\n',precision_score(ytest,ada_1_preds))\n",
    "print('recall_score\\n',recall_score(ytest,ada_1_preds))\n",
    "print('f1_score beta\\n',fbeta_score(ytest,ada_1_preds, beta=2.0))\n",
    "grid_lr_acc_acc_sc=accuracy_score(ytest,ada_1_preds)\n",
    "grid_lr_acc_pr_sc=precision_score(ytest,ada_1_preds)\n",
    "grid_lr_acc_rec_sc=recall_score(ytest,ada_1_preds)\n",
    "grid_lr_acc_f1_sc=f1_score(ytest,ada_1_preds)\n",
    "confusion_matrix(ytest,ada_1_preds)"
   ]
  },
  {
   "cell_type": "code",
   "execution_count": 10,
   "id": "stuck-sector",
   "metadata": {},
   "outputs": [
    {
     "data": {
      "image/png": "[encoded data removed]",
      "text/plain": [
       "<Figure size 576x360 with 2 Axes>"
      ]
     },
     "metadata": {
      "needs_background": "light"
     },
     "output_type": "display_data"
    }
   ],
   "source": [
    "sn.set()\n",
    "plt.figure(figsize=(8,5))\n",
    "plt.title('confusion matrix for logistic regression')\n",
    "sns.heatmap(confusion_matrix(ytest,ada_1_preds),annot=True,fmt='.3g',cmap='viridis')\n",
    "plt.xlabel('Predicted label')\n",
    "plt.ylabel('True label')\n",
    "plt.yticks([0,1],['no stroke','stroke'],size=15)\n",
    "plt.xticks([0,1],['no stroke','stroke'],size=15)\n",
    "plt.show()"
   ]
  },
  {
   "cell_type": "code",
   "execution_count": 11,
   "id": "dress-geneva",
   "metadata": {},
   "outputs": [
    {
     "name": "stdout",
     "output_type": "stream",
     "text": [
      "Fitting 5 folds for each of 1 candidates, totalling 5 fits\n",
      "[CV 1/5; 1/1] START C=10000, class_weight={0: 1.0, 1: 2.0}, degree=2, kernel=linear\n",
      "[CV 1/5; 1/1] END C=10000, class_weight={0: 1.0, 1: 2.0}, degree=2, kernel=linear; total time= 4.7min\n",
      "[CV 2/5; 1/1] START C=10000, class_weight={0: 1.0, 1: 2.0}, degree=2, kernel=linear\n",
      "[CV 2/5; 1/1] END C=10000, class_weight={0: 1.0, 1: 2.0}, degree=2, kernel=linear; total time= 2.9min\n",
      "[CV 3/5; 1/1] START C=10000, class_weight={0: 1.0, 1: 2.0}, degree=2, kernel=linear\n",
      "[CV 3/5; 1/1] END C=10000, class_weight={0: 1.0, 1: 2.0}, degree=2, kernel=linear; total time= 2.5min\n",
      "[CV 4/5; 1/1] START C=10000, class_weight={0: 1.0, 1: 2.0}, degree=2, kernel=linear\n",
      "[CV 4/5; 1/1] END C=10000, class_weight={0: 1.0, 1: 2.0}, degree=2, kernel=linear; total time=  45.1s\n",
      "[CV 5/5; 1/1] START C=10000, class_weight={0: 1.0, 1: 2.0}, degree=2, kernel=linear\n",
      "[CV 5/5; 1/1] END C=10000, class_weight={0: 1.0, 1: 2.0}, degree=2, kernel=linear; total time= 1.9min\n"
     ]
    },
    {
     "data": {
      "text/plain": [
       "{'C': 10000, 'class_weight': {0: 1.0, 1: 2.0}, 'degree': 2, 'kernel': 'linear'}"
      ]
     },
     "execution_count": 11,
     "metadata": {},
     "output_type": "execute_result"
    }
   ],
   "source": [
    "from sklearn.svm import SVC\n",
    "from sklearn.metrics import fbeta_score, make_scorer\n",
    "w = [{0:1.0,1:2.0}]\n",
    "lsvc_params1  = {\n",
    "    \"kernel\": ['linear'],\n",
    "    \"C\" : [10000],\n",
    "    'class_weight':w,\n",
    "    'degree': [2]\n",
    "}\n",
    "score_f1_beta = make_scorer(fbeta_score, beta=2)\n",
    "lsvc1 =SVC()\n",
    "lsvc_tune1 = GridSearchCV(estimator = lsvc1, param_grid = lsvc_params1, verbose=10, scoring = score_f1_beta, cv = 5, return_train_score = True)\n",
    "lsvc_tune1.fit(xtrain, ytrain)\n",
    "lsvc_tune1.best_params_"
   ]
  },
  {
   "cell_type": "code",
   "execution_count": 12,
   "id": "registered-elements",
   "metadata": {},
   "outputs": [
    {
     "name": "stdout",
     "output_type": "stream",
     "text": [
      "Best score: 0.9376269735857529 with param: {'C': 10000, 'class_weight': {0: 1.0, 1: 2.0}, 'degree': 2, 'kernel': 'linear'}\n"
     ]
    }
   ],
   "source": [
    "import pickle\n",
    "filename = 'SVCFinal.sav'\n",
    "pickle.dump(lsvc_tune1, open(filename, 'wb'))\n",
    "print(f'Best score: {lsvc_tune1.best_score_} with param: {lsvc_tune1.best_params_}')"
   ]
  },
  {
   "cell_type": "code",
   "execution_count": 24,
   "id": "reserved-honey",
   "metadata": {},
   "outputs": [
    {
     "name": "stdout",
     "output_type": "stream",
     "text": [
      "accuracy_score\n",
      " 0.9963235294117647\n",
      "precision_score\n",
      " 1.0\n",
      "recall_score\n",
      " 0.9180327868852459\n",
      "f1_score beta\n",
      " 0.9333333333333332\n"
     ]
    },
    {
     "data": {
      "text/plain": [
       "array([[1299,    0],\n",
       "       [   5,   56]])"
      ]
     },
     "execution_count": 24,
     "metadata": {},
     "output_type": "execute_result"
    }
   ],
   "source": [
    "from sklearn.metrics import accuracy_score,recall_score,precision_score,f1_score,confusion_matrix\n",
    "scv_1_preds1 = lsvc_tune1.predict(xtest)\n",
    "print('accuracy_score\\n',accuracy_score(ytest,scv_1_preds1))\n",
    "print('precision_score\\n',precision_score(ytest,scv_1_preds1))\n",
    "print('recall_score\\n',recall_score(ytest,scv_1_preds1))\n",
    "print('f1_score beta\\n',fbeta_score(ytest,scv_1_preds1, beta=2.0))\n",
    "grid_lr_acc_acc_sc=accuracy_score(ytest,scv_1_preds1)\n",
    "grid_lr_acc_pr_sc=precision_score(ytest,scv_1_preds1)\n",
    "grid_lr_acc_rec_sc=recall_score(ytest,scv_1_preds1)\n",
    "grid_lr_acc_f1_sc=f1_score(ytest,scv_1_preds1)\n",
    "confusion_matrix(ytest,scv_1_preds1)"
   ]
  },
  {
   "cell_type": "code",
   "execution_count": 16,
   "id": "turned-classroom",
   "metadata": {},
   "outputs": [
    {
     "data": {
      "image/png": "[encoded data removed]",
      "text/plain": [
       "<Figure size 576x360 with 2 Axes>"
      ]
     },
     "metadata": {
      "needs_background": "light"
     },
     "output_type": "display_data"
    }
   ],
   "source": [
    "plt.figure(figsize=(8,5))\n",
    "plt.title('confusion matrix for logistic regression')\n",
    "sns.heatmap(confusion_matrix(ytest,scv_1_preds1),annot=True,fmt='.3g',cmap='viridis')\n",
    "plt.xlabel('Predicted label')\n",
    "plt.ylabel('True label')\n",
    "plt.yticks([0,1],['no stroke','stroke'],size=15)\n",
    "plt.xticks([0,1],['no stroke','stroke'],size=15)\n",
    "plt.show()"
   ]
  },
  {
   "cell_type": "code",
   "execution_count": 17,
   "id": "exclusive-language",
   "metadata": {},
   "outputs": [
    {
     "name": "stdout",
     "output_type": "stream",
     "text": [
      "Fitting 5 folds for each of 1 candidates, totalling 5 fits\n",
      "[CV 1/5; 1/1] START class_weight={0: 1.0, 1: 1.0}, criterion=entropy, n_estimators=100\n",
      "[CV 1/5; 1/1] END class_weight={0: 1.0, 1: 1.0}, criterion=entropy, n_estimators=100; total time=   0.9s\n",
      "[CV 2/5; 1/1] START class_weight={0: 1.0, 1: 1.0}, criterion=entropy, n_estimators=100\n",
      "[CV 2/5; 1/1] END class_weight={0: 1.0, 1: 1.0}, criterion=entropy, n_estimators=100; total time=   0.9s\n",
      "[CV 3/5; 1/1] START class_weight={0: 1.0, 1: 1.0}, criterion=entropy, n_estimators=100\n",
      "[CV 3/5; 1/1] END class_weight={0: 1.0, 1: 1.0}, criterion=entropy, n_estimators=100; total time=   0.9s\n",
      "[CV 4/5; 1/1] START class_weight={0: 1.0, 1: 1.0}, criterion=entropy, n_estimators=100\n",
      "[CV 4/5; 1/1] END class_weight={0: 1.0, 1: 1.0}, criterion=entropy, n_estimators=100; total time=   0.9s\n",
      "[CV 5/5; 1/1] START class_weight={0: 1.0, 1: 1.0}, criterion=entropy, n_estimators=100\n",
      "[CV 5/5; 1/1] END class_weight={0: 1.0, 1: 1.0}, criterion=entropy, n_estimators=100; total time=   0.9s\n",
      "Best score: 0.5240579942816697 with param: {'class_weight': {0: 1.0, 1: 1.0}, 'criterion': 'entropy', 'n_estimators': 100}\n"
     ]
    }
   ],
   "source": [
    "from sklearn.ensemble import RandomForestClassifier, AdaBoostClassifier\n",
    "from sklearn.metrics import fbeta_score, make_scorer\n",
    "rfc_1 = RandomForestClassifier()\n",
    "rfc_1_params  = {\n",
    "    \"n_estimators\":[100],\n",
    "    \"criterion\" : ['entropy'],\n",
    "    'class_weight': [{0:1.0,1:1.0}]\n",
    "}\n",
    "score_f1_beta = make_scorer(fbeta_score, beta=2)\n",
    "rfc_1_tune = GridSearchCV(estimator = rfc_1, param_grid = rfc_1_params, cv = 5, scoring=score_f1_beta, return_train_score = True, verbose = 10)\n",
    "rfc_1_tune.fit(xtrain, ytrain)\n",
    "rfc_1_tune.best_params_\n",
    "import pickle\n",
    "filename = 'RFCFinal.sav'\n",
    "pickle.dump(rfc_1_tune, open(filename, 'wb'))\n",
    "print(f'Best score: {rfc_1_tune.best_score_} with param: {rfc_1_tune.best_params_}')\n",
    "#Predict values based on new parameters"
   ]
  },
  {
   "cell_type": "code",
   "execution_count": 25,
   "id": "norman-malawi",
   "metadata": {},
   "outputs": [
    {
     "name": "stdout",
     "output_type": "stream",
     "text": [
      "accuracy_score\n",
      " 0.975735294117647\n",
      "precision_score\n",
      " 1.0\n",
      "recall_score\n",
      " 0.45901639344262296\n",
      "f1_score beta\n",
      " 0.5147058823529412\n"
     ]
    },
    {
     "data": {
      "text/plain": [
       "array([[1299,    0],\n",
       "       [  33,   28]])"
      ]
     },
     "execution_count": 25,
     "metadata": {},
     "output_type": "execute_result"
    }
   ],
   "source": [
    "rfc_1_preds = rfc_1_tune.predict(xtest)\n",
    "print('accuracy_score\\n',accuracy_score(ytest,rfc_1_preds))\n",
    "print('precision_score\\n',precision_score(ytest,rfc_1_preds))\n",
    "print('recall_score\\n',recall_score(ytest,rfc_1_preds))\n",
    "print('f1_score beta\\n',fbeta_score(ytest,rfc_1_preds, beta=2.0))\n",
    "grid_lr_acc_acc_sc=accuracy_score(ytest,rfc_1_preds)\n",
    "grid_lr_acc_pr_sc=precision_score(ytest,rfc_1_preds)\n",
    "grid_lr_acc_rec_sc=recall_score(ytest,rfc_1_preds)\n",
    "grid_lr_acc_f1_sc=f1_score(ytest,rfc_1_preds)\n",
    "confusion_matrix(ytest,rfc_1_preds)"
   ]
  },
  {
   "cell_type": "code",
   "execution_count": 20,
   "id": "spectacular-external",
   "metadata": {},
   "outputs": [
    {
     "data": {
      "image/png": "[encoded data removed]",
      "text/plain": [
       "<Figure size 576x360 with 2 Axes>"
      ]
     },
     "metadata": {},
     "output_type": "display_data"
    }
   ],
   "source": [
    "sns.set()\n",
    "plt.figure(figsize=(8,5))\n",
    "plt.title('confusion matrix for logistic regression')\n",
    "sns.heatmap(confusion_matrix(ytest,rfc_1_preds),annot=True,fmt='.3g',cmap='viridis')\n",
    "plt.xlabel('Predicted label')\n",
    "plt.ylabel('True label')\n",
    "plt.yticks([0,1],['no stroke','stroke'],size=15)\n",
    "plt.xticks([0,1],['no stroke','stroke'],size=15)\n",
    "plt.show()"
   ]
  },
  {
   "cell_type": "code",
   "execution_count": 21,
   "id": "blocked-forty",
   "metadata": {},
   "outputs": [
    {
     "name": "stdout",
     "output_type": "stream",
     "text": [
      "Fitting 5 folds for each of 1 candidates, totalling 5 fits\n",
      "[CV 1/5; 1/1] START activation=logistic, alpha=1e-05, hidden_layer_sizes=(50, 75, 100), learning_rate=adaptive, solver=adam\n",
      "[CV 1/5; 1/1] END activation=logistic, alpha=1e-05, hidden_layer_sizes=(50, 75, 100), learning_rate=adaptive, solver=adam; total time=  20.5s\n",
      "[CV 2/5; 1/1] START activation=logistic, alpha=1e-05, hidden_layer_sizes=(50, 75, 100), learning_rate=adaptive, solver=adam\n",
      "[CV 2/5; 1/1] END activation=logistic, alpha=1e-05, hidden_layer_sizes=(50, 75, 100), learning_rate=adaptive, solver=adam; total time=  14.0s\n",
      "[CV 3/5; 1/1] START activation=logistic, alpha=1e-05, hidden_layer_sizes=(50, 75, 100), learning_rate=adaptive, solver=adam\n",
      "[CV 3/5; 1/1] END activation=logistic, alpha=1e-05, hidden_layer_sizes=(50, 75, 100), learning_rate=adaptive, solver=adam; total time=  24.7s\n",
      "[CV 4/5; 1/1] START activation=logistic, alpha=1e-05, hidden_layer_sizes=(50, 75, 100), learning_rate=adaptive, solver=adam\n",
      "[CV 4/5; 1/1] END activation=logistic, alpha=1e-05, hidden_layer_sizes=(50, 75, 100), learning_rate=adaptive, solver=adam; total time=  25.8s\n",
      "[CV 5/5; 1/1] START activation=logistic, alpha=1e-05, hidden_layer_sizes=(50, 75, 100), learning_rate=adaptive, solver=adam\n",
      "[CV 5/5; 1/1] END activation=logistic, alpha=1e-05, hidden_layer_sizes=(50, 75, 100), learning_rate=adaptive, solver=adam; total time=  23.1s\n"
     ]
    },
    {
     "data": {
      "text/plain": [
       "{'activation': 'logistic',\n",
       " 'alpha': 1e-05,\n",
       " 'hidden_layer_sizes': (50, 75, 100),\n",
       " 'learning_rate': 'adaptive',\n",
       " 'solver': 'adam'}"
      ]
     },
     "execution_count": 21,
     "metadata": {},
     "output_type": "execute_result"
    }
   ],
   "source": [
    "from sklearn.neural_network import MLPClassifier\n",
    "parameter_space = {\n",
    "    'hidden_layer_sizes': [(50,75,100,)],\n",
    "    'activation': ['logistic' ],\n",
    "    'solver': [ 'adam'],\n",
    "    'alpha': [.00001],\n",
    "    'learning_rate': ['adaptive'],\n",
    "}\n",
    "score_f1_beta = make_scorer(fbeta_score, beta=2)\n",
    "mlp_gs = MLPClassifier(max_iter=10000)\n",
    "clf = GridSearchCV(mlp_gs, parameter_space, cv=5, scoring=score_f1_beta, verbose=10)\n",
    "clf.fit(xtrain, ytrain)\n",
    "clf.best_params_"
   ]
  },
  {
   "cell_type": "code",
   "execution_count": 28,
   "id": "severe-system",
   "metadata": {},
   "outputs": [
    {
     "data": {
      "text/plain": [
       "{'activation': 'logistic',\n",
       " 'alpha': 1e-05,\n",
       " 'hidden_layer_sizes': (50, 75, 100),\n",
       " 'learning_rate': 'adaptive',\n",
       " 'solver': 'adam'}"
      ]
     },
     "execution_count": 28,
     "metadata": {},
     "output_type": "execute_result"
    }
   ],
   "source": [
    "clf.best_params_"
   ]
  },
  {
   "cell_type": "code",
   "execution_count": 26,
   "id": "macro-truck",
   "metadata": {},
   "outputs": [
    {
     "name": "stdout",
     "output_type": "stream",
     "text": [
      "accuracy_score\n",
      " 0.9911764705882353\n",
      "precision_score\n",
      " 0.9454545454545454\n",
      "recall_score\n",
      " 0.8524590163934426\n",
      "f1_score beta\n",
      " 0.8695652173913044\n"
     ]
    },
    {
     "data": {
      "text/plain": [
       "array([[1296,    3],\n",
       "       [   9,   52]])"
      ]
     },
     "execution_count": 26,
     "metadata": {},
     "output_type": "execute_result"
    }
   ],
   "source": [
    "clf_preds = clf.predict(xtest)\n",
    "print('accuracy_score\\n',accuracy_score(ytest,clf_preds))\n",
    "print('precision_score\\n',precision_score(ytest,clf_preds))\n",
    "print('recall_score\\n',recall_score(ytest,clf_preds))\n",
    "print('f1_score beta\\n',fbeta_score(ytest,clf_preds, beta=2.0))\n",
    "grid_lr_acc_acc_sc=accuracy_score(ytest,clf_preds)\n",
    "grid_lr_acc_pr_sc=precision_score(ytest,clf_preds)\n",
    "grid_lr_acc_rec_sc=recall_score(ytest,clf_preds)\n",
    "grid_lr_acc_f1_sc=f1_score(ytest,clf_preds)\n",
    "confusion_matrix(ytest,clf_preds)"
   ]
  },
  {
   "cell_type": "code",
   "execution_count": 27,
   "id": "elect-stadium",
   "metadata": {},
   "outputs": [
    {
     "data": {
      "image/png": "[encoded data removed]",
      "text/plain": [
       "<Figure size 576x360 with 2 Axes>"
      ]
     },
     "metadata": {},
     "output_type": "display_data"
    }
   ],
   "source": [
    "plt.figure(figsize=(8,5))\n",
    "plt.title('confusion matrix for logistic regression')\n",
    "sns.heatmap(confusion_matrix(ytest,clf_preds),annot=True,fmt='.3g',cmap='viridis')\n",
    "plt.xlabel('Predicted label')\n",
    "plt.ylabel('True label')\n",
    "plt.yticks([0,1],['no stroke','stroke'],size=15)\n",
    "plt.xticks([0,1],['no stroke','stroke'],size=15)\n",
    "plt.show()"
   ]
  },
  {
   "cell_type": "code",
   "execution_count": 31,
   "id": "phantom-migration",
   "metadata": {},
   "outputs": [
    {
     "name": "stdout",
     "output_type": "stream",
     "text": [
      "AUC_ROC log:  0.9399285705271394\n",
      "AUC_ROC ada:  0.8579613574123853\n",
      "AUC_ROC svc:  0.959016393442623\n",
      "AUC_ROC rfc:  0.7295081967213115\n",
      "AUC_ROC mlp:  0.925074773785636\n"
     ]
    }
   ],
   "source": [
    "from sklearn.metrics import roc_auc_score\n",
    "print(\"AUC_ROC log: \", roc_auc_score(ytest, lrgpytest_w))\n",
    "print(\"AUC_ROC ada: \", roc_auc_score(ytest, ada_1_preds))\n",
    "print(\"AUC_ROC svc: \", roc_auc_score(ytest, scv_1_preds1))\n",
    "print(\"AUC_ROC rfc: \", roc_auc_score(ytest, rfc_1_preds))\n",
    "print(\"AUC_ROC mlp: \", roc_auc_score(ytest,clf_preds))"
   ]
  },
  {
   "cell_type": "code",
   "execution_count": null,
   "id": "useful-legislature",
   "metadata": {},
   "outputs": [],
   "source": []
  }
 ],
 "metadata": {
  "kernelspec": {
   "display_name": "Python 3",
   "language": "python",
   "name": "python3"
  },
  "language_info": {
   "codemirror_mode": {
    "name": "ipython",
    "version": 3
   },
   "file_extension": ".py",
   "mimetype": "text/x-python",
   "name": "python",
   "nbconvert_exporter": "python",
   "pygments_lexer": "ipython3",
   "version": "3.7.9"
  }
 },
 "nbformat": 4,
 "nbformat_minor": 5
}
