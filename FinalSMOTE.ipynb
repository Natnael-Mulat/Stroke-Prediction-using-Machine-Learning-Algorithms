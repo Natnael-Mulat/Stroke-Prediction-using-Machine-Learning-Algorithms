{
 "cells": [
  {
   "cell_type": "code",
   "execution_count": 1,
   "id": "opposed-visit",
   "metadata": {},
   "outputs": [
    {
     "name": "stdout",
     "output_type": "stream",
     "text": [
      "10360\n"
     ]
    },
    {
     "data": {
      "image/png": "[encoded data removed]",
      "text/plain": [
       "<Figure size 432x288 with 1 Axes>"
      ]
     },
     "metadata": {
      "needs_background": "light"
     },
     "output_type": "display_data"
    }
   ],
   "source": [
    "import pandas as pd\n",
    "import numpy as np\n",
    "from sklearn.model_selection import train_test_split\n",
    "from sklearn.preprocessing import Normalizer\n",
    "from sklearn.ensemble import RandomForestClassifier, AdaBoostClassifier\n",
    "from sklearn.svm import LinearSVC, NuSVC\n",
    "from sklearn.metrics import f1_score, accuracy_score, make_scorer, roc_curve, classification_report\n",
    "from sklearn.model_selection import RandomizedSearchCV, GridSearchCV\n",
    "from sklearn.metrics import f1_score, accuracy_score, make_scorer\n",
    "import matplotlib.pyplot as plt\n",
    "import seaborn as sn\n",
    "from sklearn.preprocessing import LabelEncoder\n",
    "from sklearn.ensemble import RandomForestClassifier, AdaBoostClassifier\n",
    "from sklearn.metrics import fbeta_score, make_scorer\n",
    "from sklearn.metrics import accuracy_score,recall_score,precision_score,f1_score,confusion_matrix\n",
    "import pickle\n",
    "\n",
    "data=pd.read_csv('DIG.csv')\n",
    "df=data.copy()\n",
    "df = df.drop(['Unnamed: 0', 'ID'], axis=1)\n",
    "df.head()\n",
    "\n",
    "x = df.drop(['STRK'],axis=1)\n",
    "y=df['STRK']\n",
    "\n",
    "xtrain, xtest, ytrain, ytest = train_test_split(x,y,test_size=0.2,shuffle=True,random_state=30)\n",
    "\n",
    "#see data if it is balanced \n",
    "#hint is not balanced \n",
    "\n",
    "#min max scaling \n",
    "# compute statistics on training fold for feature rescaling (min-max)\n",
    "minima = np.min(xtrain, axis=0)\n",
    "maxima = np.max(xtrain, axis=0)\n",
    "\n",
    "# rescale train and test sets\n",
    "xtrain = (xtrain - minima) / (maxima - minima)\n",
    "xtest = (xtest - minima) / (maxima - minima)\n",
    "\n",
    "ytrain.shape\n",
    "columns1 = x.columns\n",
    "df_resampling_x = pd.DataFrame(xtrain, columns = columns1)\n",
    "#print(xtrain)\n",
    "df_resampling_y = pd.DataFrame(ytrain, columns = ['id', 'STRK'])\n",
    "del df_resampling_y['id']\n",
    "concat = [df_resampling_x, df_resampling_y]\n",
    "resampled_train_df = pd.concat(concat, axis=1)\n",
    "\n",
    "\n",
    "\n",
    "ytrain.value_counts()\n",
    "sn.histplot(ytrain)\n",
    "\n",
    "\n",
    "from imblearn.over_sampling import SMOTE\n",
    "X = resampled_train_df.drop(columns = 'STRK')\n",
    "Y = resampled_train_df.STRK\n",
    "smote = SMOTE()\n",
    "xtrain ,ytrain = smote.fit_resample(X ,Y)\n",
    "\n",
    "total = len(resampled_train_df['STRK'])\n",
    "\n",
    "ytrain.value_counts()\n",
    "sn.histplot(ytrain)\n",
    "print(len(ytrain))"
   ]
  },
  {
   "cell_type": "code",
   "execution_count": 2,
   "id": "virgin-glucose",
   "metadata": {},
   "outputs": [
    {
     "name": "stdout",
     "output_type": "stream",
     "text": [
      "Fitting 5 folds for each of 1 candidates, totalling 5 fits\n",
      "Best score: 0.9776737709933171 with param: {'C': 100000}\n",
      "Best score: 0.9776737709933171 with param: {'C': 100000}\n",
      "1360\n",
      "accuracy_score\n",
      " 0.9830882352941176\n",
      "precision_score\n",
      " 0.7714285714285715\n",
      "recall_score\n",
      " 0.8852459016393442\n",
      "f1_score beta\n",
      " 0.8598726114649681\n"
     ]
    },
    {
     "data": {
      "text/plain": [
       "array([[1283,   16],\n",
       "       [   7,   54]])"
      ]
     },
     "execution_count": 2,
     "metadata": {},
     "output_type": "execute_result"
    }
   ],
   "source": [
    "from sklearn.linear_model import LogisticRegression\n",
    "from sklearn.model_selection import GridSearchCV\n",
    "from sklearn.metrics import accuracy_score,recall_score,precision_score,f1_score,confusion_matrix\n",
    "from sklearn.metrics import fbeta_score, make_scorer\n",
    "\n",
    "#w = [ {0:0.005,1:1.0},{0:1.0,1:1.0}, {0:1.0,1:2.0},{0:1.0,1:4.0}, {0:1.0,1:5}, {0:1.0,1:10}, {0:1.0,1:50}]\n",
    "lr_w=LogisticRegression(max_iter=700000)\n",
    "score_f1_beta = make_scorer(fbeta_score, beta=2)\n",
    "grid_values_w = {'C':[100000]}\n",
    "grid_lr_acc_w = GridSearchCV(lr_w, param_grid = grid_values_w, cv=5, verbose=10, n_jobs=-1, scoring = score_f1_beta)\n",
    "grid_lr_acc_w.fit(xtrain, ytrain)\n",
    "grid_lr_acc_w.best_params_\n",
    "import pickle\n",
    "filename = 'LOGSMOT.sav'\n",
    "pickle.dump(grid_lr_acc_w, open(filename, 'wb'))\n",
    "print(f'Best score: {grid_lr_acc_w.best_score_} with param: {grid_lr_acc_w.best_params_}')\n",
    "#Predict values based on new parameters\n",
    "\n",
    "print(f'Best score: {grid_lr_acc_w.best_score_} with param: {grid_lr_acc_w.best_params_}')\n",
    "lrgpytest_w= grid_lr_acc_w.predict(xtest)\n",
    "print(len(lrgpytest_w))\n",
    "print('accuracy_score\\n',accuracy_score(ytest,lrgpytest_w))\n",
    "print('precision_score\\n',precision_score(ytest,lrgpytest_w))\n",
    "print('recall_score\\n',recall_score(ytest,lrgpytest_w))\n",
    "print('f1_score beta\\n',fbeta_score(ytest,lrgpytest_w, beta=2.0))\n",
    "grid_lr_acc_acc_sc=accuracy_score(ytest,lrgpytest_w)\n",
    "grid_lr_acc_pr_sc=precision_score(ytest,lrgpytest_w)\n",
    "grid_lr_acc_rec_sc=recall_score(ytest,lrgpytest_w)\n",
    "grid_lr_acc_f1_sc=f1_score(ytest,lrgpytest_w)\n",
    "confusion_matrix(ytest,lrgpytest_w)"
   ]
  },
  {
   "cell_type": "code",
   "execution_count": 3,
   "id": "million-worst",
   "metadata": {},
   "outputs": [
    {
     "name": "stdout",
     "output_type": "stream",
     "text": [
      "Fitting 5 folds for each of 1 candidates, totalling 5 fits\n",
      "[CV 1/5; 1/1] START C=10, degree=2, kernel=rbf..................................\n",
      "[CV 1/5; 1/1] END ................C=10, degree=2, kernel=rbf; total time=   1.0s\n",
      "[CV 2/5; 1/1] START C=10, degree=2, kernel=rbf..................................\n",
      "[CV 2/5; 1/1] END ................C=10, degree=2, kernel=rbf; total time=   1.0s\n",
      "[CV 3/5; 1/1] START C=10, degree=2, kernel=rbf..................................\n",
      "[CV 3/5; 1/1] END ................C=10, degree=2, kernel=rbf; total time=   1.0s\n",
      "[CV 4/5; 1/1] START C=10, degree=2, kernel=rbf..................................\n",
      "[CV 4/5; 1/1] END ................C=10, degree=2, kernel=rbf; total time=   1.0s\n",
      "[CV 5/5; 1/1] START C=10, degree=2, kernel=rbf..................................\n",
      "[CV 5/5; 1/1] END ................C=10, degree=2, kernel=rbf; total time=   1.0s\n",
      "Best score: 0.9996141081902692 with param: {'C': 10, 'degree': 2, 'kernel': 'rbf'}\n",
      "1360\n",
      "accuracy_score\n",
      " 0.9801470588235294\n",
      "precision_score\n",
      " 0.8863636363636364\n",
      "recall_score\n",
      " 0.639344262295082\n",
      "f1_score beta\n",
      " 0.6770833333333333\n"
     ]
    },
    {
     "data": {
      "text/plain": [
       "array([[1294,    5],\n",
       "       [  22,   39]])"
      ]
     },
     "execution_count": 3,
     "metadata": {},
     "output_type": "execute_result"
    }
   ],
   "source": [
    "from sklearn.svm import SVC\n",
    "from sklearn.metrics import fbeta_score, make_scorer\n",
    "#w = [ {0:1.0,1:1.0},{0:1.0,1:2.0},{0:1.0,1:4.0},{0:1.0,1:5}]\n",
    "lsvc_params1  = {\n",
    "    \"kernel\": ['rbf'],\n",
    "    \"C\" : [10],\n",
    "    'degree': [2,]\n",
    "}\n",
    "score_f1_beta = make_scorer(fbeta_score, beta=2)\n",
    "lsvc1 =SVC()\n",
    "lsvc_tune1 = GridSearchCV(estimator = lsvc1, param_grid = lsvc_params1, verbose=10, scoring = score_f1_beta, cv = 5, return_train_score = True)\n",
    "lsvc_tune1.fit(xtrain, ytrain)\n",
    "lsvc_tune1.best_params_\n",
    "import pickle\n",
    "filename = 'SVCSMOTE.sav'\n",
    "pickle.dump(lsvc_tune1, open(filename, 'wb'))\n",
    "print(f'Best score: {lsvc_tune1.best_score_} with param: {lsvc_tune1.best_params_}')\n",
    "\n",
    "svc_pred= lsvc_tune1.predict(xtest)\n",
    "print(len(lrgpytest_w))\n",
    "print('accuracy_score\\n',accuracy_score(ytest,svc_pred))\n",
    "print('precision_score\\n',precision_score(ytest,svc_pred))\n",
    "print('recall_score\\n',recall_score(ytest,svc_pred))\n",
    "print('f1_score beta\\n',fbeta_score(ytest,svc_pred, beta=2.0))\n",
    "grid_lr_acc_acc_sc=accuracy_score(ytest,svc_pred)\n",
    "grid_lr_acc_pr_sc=precision_score(ytest,svc_pred)\n",
    "grid_lr_acc_rec_sc=recall_score(ytest,svc_pred)\n",
    "grid_lr_acc_f1_sc=f1_score(ytest,svc_pred)\n",
    "confusion_matrix(ytest,svc_pred)\n",
    "#Predict values based on new parameters"
   ]
  },
  {
   "cell_type": "code",
   "execution_count": 4,
   "id": "invalid-absence",
   "metadata": {},
   "outputs": [
    {
     "name": "stdout",
     "output_type": "stream",
     "text": [
      "Fitting 5 folds for each of 1 candidates, totalling 5 fits\n",
      "[CV 1/5; 1/1] START learning_rate=0.1, n_estimators=1000........................\n",
      "[CV 1/5; 1/1] END ......learning_rate=0.1, n_estimators=1000; total time=  34.4s\n",
      "[CV 2/5; 1/1] START learning_rate=0.1, n_estimators=1000........................\n",
      "[CV 2/5; 1/1] END ......learning_rate=0.1, n_estimators=1000; total time=  33.6s\n",
      "[CV 3/5; 1/1] START learning_rate=0.1, n_estimators=1000........................\n",
      "[CV 3/5; 1/1] END ......learning_rate=0.1, n_estimators=1000; total time=  33.6s\n",
      "[CV 4/5; 1/1] START learning_rate=0.1, n_estimators=1000........................\n",
      "[CV 4/5; 1/1] END ......learning_rate=0.1, n_estimators=1000; total time=  33.6s\n",
      "[CV 5/5; 1/1] START learning_rate=0.1, n_estimators=1000........................\n",
      "[CV 5/5; 1/1] END ......learning_rate=0.1, n_estimators=1000; total time=  33.6s\n",
      "Best score: 0.9768385541433539 with param: {'learning_rate': 0.1, 'n_estimators': 1000}\n",
      "accuracy_score\n",
      " 0.975\n",
      "precision_score\n",
      " 0.7288135593220338\n",
      "recall_score\n",
      " 0.7049180327868853\n",
      "f1_score beta\n",
      " 0.7095709570957096\n"
     ]
    },
    {
     "data": {
      "text/plain": [
       "array([[1283,   16],\n",
       "       [  18,   43]])"
      ]
     },
     "execution_count": 4,
     "metadata": {},
     "output_type": "execute_result"
    }
   ],
   "source": [
    "from sklearn.ensemble import RandomForestClassifier, AdaBoostClassifier\n",
    "\n",
    "ada_1 = AdaBoostClassifier()\n",
    "ada_1_params  = {\n",
    "     \"n_estimators\":[ 1000],\n",
    "    \"learning_rate\" : [ .1]\n",
    "}\n",
    "score_f1_beta = make_scorer(fbeta_score, beta=2)\n",
    "ada_1_tune = GridSearchCV(estimator = ada_1, param_grid = ada_1_params, scoring = score_f1_beta, cv = 5, return_train_score = True, verbose = 10)\n",
    "ada_1_tune.fit(xtrain, ytrain)\n",
    "ada_1_tune.best_params_\n",
    "import pickle\n",
    "filename = 'ADASMOTE.sav'\n",
    "pickle.dump(ada_1_tune, open(filename, 'wb'))\n",
    "print(f'Best score: {ada_1_tune.best_score_} with param: {ada_1_tune.best_params_}')\n",
    "#Predict values based on new parameters\n",
    "from sklearn.metrics import accuracy_score,recall_score,precision_score,f1_score,confusion_matrix\n",
    "ada_1_preds = ada_1_tune.predict(xtest)\n",
    "print('accuracy_score\\n',accuracy_score(ytest,ada_1_preds))\n",
    "print('precision_score\\n',precision_score(ytest,ada_1_preds))\n",
    "print('recall_score\\n',recall_score(ytest,ada_1_preds))\n",
    "print('f1_score beta\\n',fbeta_score(ytest,ada_1_preds, beta=2.0))\n",
    "grid_lr_acc_acc_sc=accuracy_score(ytest,ada_1_preds)\n",
    "grid_lr_acc_pr_sc=precision_score(ytest,ada_1_preds)\n",
    "grid_lr_acc_rec_sc=recall_score(ytest,ada_1_preds)\n",
    "grid_lr_acc_f1_sc=f1_score(ytest,ada_1_preds)\n",
    "confusion_matrix(ytest,ada_1_preds)"
   ]
  },
  {
   "cell_type": "code",
   "execution_count": 6,
   "id": "inner-learning",
   "metadata": {},
   "outputs": [
    {
     "name": "stdout",
     "output_type": "stream",
     "text": [
      "Fitting 5 folds for each of 1 candidates, totalling 5 fits\n",
      "[CV 1/5; 1/1] START criterion=gini, n_estimators=1000...........................\n",
      "[CV 1/5; 1/1] END .........criterion=gini, n_estimators=1000; total time=  24.4s\n",
      "[CV 2/5; 1/1] START criterion=gini, n_estimators=1000...........................\n",
      "[CV 2/5; 1/1] END .........criterion=gini, n_estimators=1000; total time=  24.2s\n",
      "[CV 3/5; 1/1] START criterion=gini, n_estimators=1000...........................\n",
      "[CV 3/5; 1/1] END .........criterion=gini, n_estimators=1000; total time=  23.7s\n",
      "[CV 4/5; 1/1] START criterion=gini, n_estimators=1000...........................\n",
      "[CV 4/5; 1/1] END .........criterion=gini, n_estimators=1000; total time=  23.8s\n",
      "[CV 5/5; 1/1] START criterion=gini, n_estimators=1000...........................\n",
      "[CV 5/5; 1/1] END .........criterion=gini, n_estimators=1000; total time=  23.7s\n",
      "accuracy_score\n",
      " 0.9742647058823529\n",
      "precision_score\n",
      " 1.0\n",
      "recall_score\n",
      " 0.4262295081967213\n",
      "f1_score beta\n",
      " 0.4814814814814814\n"
     ]
    },
    {
     "data": {
      "text/plain": [
       "array([[1299,    0],\n",
       "       [  35,   26]])"
      ]
     },
     "execution_count": 6,
     "metadata": {},
     "output_type": "execute_result"
    }
   ],
   "source": [
    "from sklearn.ensemble import RandomForestClassifier, AdaBoostClassifier\n",
    "rfc_1 = RandomForestClassifier()\n",
    "rfc_1_params  = {\n",
    "    \"n_estimators\":[ 1000],\n",
    "    \"criterion\" : ['gini'],\n",
    "}\n",
    "score_f1_beta = make_scorer(fbeta_score, beta=2)\n",
    "rfc_1_tune = GridSearchCV(estimator = rfc_1, param_grid = rfc_1_params, cv = 5, scoring=score_f1_beta, return_train_score = True, verbose = 10)\n",
    "rfc_1_tune.fit(xtrain, ytrain)\n",
    "rfc_1_tune.best_params_\n",
    "filename = 'RFCSMOTE.sav'\n",
    "pickle.dump(rfc_1_tune, open(filename, 'wb'))\n",
    "rfc_1_preds = rfc_1_tune.predict(xtest)\n",
    "print('accuracy_score\\n',accuracy_score(ytest,rfc_1_preds))\n",
    "print('precision_score\\n',precision_score(ytest,rfc_1_preds))\n",
    "print('recall_score\\n',recall_score(ytest,rfc_1_preds))\n",
    "print('f1_score beta\\n',fbeta_score(ytest,rfc_1_preds, beta=2.0))\n",
    "grid_lr_acc_acc_sc=accuracy_score(ytest,rfc_1_preds)\n",
    "grid_lr_acc_pr_sc=precision_score(ytest,rfc_1_preds)\n",
    "grid_lr_acc_rec_sc=recall_score(ytest,rfc_1_preds)\n",
    "grid_lr_acc_f1_sc=f1_score(ytest,rfc_1_preds)\n",
    "confusion_matrix(ytest,rfc_1_preds)"
   ]
  },
  {
   "cell_type": "code",
   "execution_count": 9,
   "id": "equipped-effect",
   "metadata": {},
   "outputs": [
    {
     "name": "stdout",
     "output_type": "stream",
     "text": [
      "Fitting 5 folds for each of 1 candidates, totalling 5 fits\n",
      "[CV 1/5; 1/1] START activation=relu, alpha=1e-05, learning_rate=adaptive, solver=adam\n",
      "[CV 1/5; 1/1] END activation=relu, alpha=1e-05, learning_rate=adaptive, solver=adam; total time=   8.4s\n",
      "[CV 2/5; 1/1] START activation=relu, alpha=1e-05, learning_rate=adaptive, solver=adam\n",
      "[CV 2/5; 1/1] END activation=relu, alpha=1e-05, learning_rate=adaptive, solver=adam; total time=   9.2s\n",
      "[CV 3/5; 1/1] START activation=relu, alpha=1e-05, learning_rate=adaptive, solver=adam\n",
      "[CV 3/5; 1/1] END activation=relu, alpha=1e-05, learning_rate=adaptive, solver=adam; total time=   8.6s\n",
      "[CV 4/5; 1/1] START activation=relu, alpha=1e-05, learning_rate=adaptive, solver=adam\n",
      "[CV 4/5; 1/1] END activation=relu, alpha=1e-05, learning_rate=adaptive, solver=adam; total time=   8.2s\n",
      "[CV 5/5; 1/1] START activation=relu, alpha=1e-05, learning_rate=adaptive, solver=adam\n",
      "[CV 5/5; 1/1] END activation=relu, alpha=1e-05, learning_rate=adaptive, solver=adam; total time=   8.6s\n",
      "accuracy_score\n",
      " 0.9838235294117647\n",
      "precision_score\n",
      " 0.8823529411764706\n",
      "recall_score\n",
      " 0.7377049180327869\n",
      "f1_score beta\n",
      " 0.7627118644067798\n"
     ]
    },
    {
     "data": {
      "text/plain": [
       "array([[1293,    6],\n",
       "       [  16,   45]])"
      ]
     },
     "execution_count": 9,
     "metadata": {},
     "output_type": "execute_result"
    }
   ],
   "source": [
    "\n",
    "from sklearn.neural_network import MLPClassifier\n",
    "score_f1_beta = make_scorer(fbeta_score, beta=2)\n",
    "parameter_space = {\n",
    "    'activation': ['relu'],\n",
    "    'solver': [ 'adam'],\n",
    "    'alpha': [.00001],\n",
    "    'learning_rate': ['adaptive'],\n",
    "}\n",
    "score_f1_beta = make_scorer(fbeta_score, beta=2)\n",
    "mlp_gs = MLPClassifier(max_iter=10000)\n",
    "clf = GridSearchCV(mlp_gs, parameter_space, cv=5, scoring=score_f1_beta, verbose=10)\n",
    "clf.fit(xtrain, ytrain)\n",
    "clf.best_params_\n",
    "import pickle\n",
    "filename = 'MLPSMOTE.sav'\n",
    "pickle.dump(clf, open(filename, 'wb'))\n",
    "clf_preds = clf.predict(xtest)\n",
    "print('accuracy_score\\n',accuracy_score(ytest,clf_preds))\n",
    "print('precision_score\\n',precision_score(ytest,clf_preds))\n",
    "print('recall_score\\n',recall_score(ytest,clf_preds))\n",
    "print('f1_score beta\\n',fbeta_score(ytest,clf_preds, beta=2.0))\n",
    "grid_lr_acc_acc_sc=accuracy_score(ytest,clf_preds)\n",
    "grid_lr_acc_pr_sc=precision_score(ytest,clf_preds)\n",
    "grid_lr_acc_rec_sc=recall_score(ytest,clf_preds)\n",
    "grid_lr_acc_f1_sc=f1_score(ytest,clf_preds)\n",
    "confusion_matrix(ytest,clf_preds)"
   ]
  },
  {
   "cell_type": "code",
   "execution_count": 10,
   "id": "infinite-oregon",
   "metadata": {},
   "outputs": [
    {
     "name": "stdout",
     "output_type": "stream",
     "text": [
      "AUC_ROC log:  0.9364643672938832\n",
      "AUC_ROC ada:  0.8463004328676536\n",
      "AUC_ROC svc:  0.8177475737957319\n",
      "AUC_ROC rfc:  0.7131147540983607\n",
      "AUC_ROC mlp:  0.8665429901942225\n"
     ]
    }
   ],
   "source": [
    "from sklearn.metrics import roc_auc_score\n",
    "print(\"AUC_ROC log: \", roc_auc_score(ytest, lrgpytest_w))\n",
    "print(\"AUC_ROC ada: \", roc_auc_score(ytest, ada_1_preds))\n",
    "print(\"AUC_ROC svc: \", roc_auc_score(ytest, svc_pred))\n",
    "print(\"AUC_ROC rfc: \", roc_auc_score(ytest, rfc_1_preds))\n",
    "print(\"AUC_ROC mlp: \", roc_auc_score(ytest,clf_preds))"
   ]
  },
  {
   "cell_type": "code",
   "execution_count": null,
   "id": "noticed-wildlife",
   "metadata": {},
   "outputs": [],
   "source": []
  }
 ],
 "metadata": {
  "kernelspec": {
   "display_name": "Python 3",
   "language": "python",
   "name": "python3"
  },
  "language_info": {
   "codemirror_mode": {
    "name": "ipython",
    "version": 3
   },
   "file_extension": ".py",
   "mimetype": "text/x-python",
   "name": "python",
   "nbconvert_exporter": "python",
   "pygments_lexer": "ipython3",
   "version": "3.7.9"
  }
 },
 "nbformat": 4,
 "nbformat_minor": 5
}
